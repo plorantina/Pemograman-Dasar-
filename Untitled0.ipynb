{
  "nbformat": 4,
  "nbformat_minor": 0,
  "metadata": {
    "colab": {
      "provenance": [],
      "authorship_tag": "ABX9TyNM1IzMlM+k3SpPNYQjJSvJ",
      "include_colab_link": true
    },
    "kernelspec": {
      "name": "python3",
      "display_name": "Python 3"
    },
    "language_info": {
      "name": "python"
    }
  },
  "cells": [
    {
      "cell_type": "markdown",
      "metadata": {
        "id": "view-in-github",
        "colab_type": "text"
      },
      "source": [
        "<a href=\"https://colab.research.google.com/github/plorantina/Pemograman-Dasar-/blob/main/Untitled0.ipynb\" target=\"_parent\"><img src=\"https://colab.research.google.com/assets/colab-badge.svg\" alt=\"Open In Colab\"/></a>"
      ]
    },
    {
      "cell_type": "code",
      "source": [
        "from os import get_terminal_size\n",
        "# Biodata saya\n",
        "\n",
        "# ===============================\n",
        "# Praktikum Pemrograman Dasar\n",
        "# ===============================\n",
        "\n",
        "# 1. Definisi Variabel\n",
        "nama = \"Andi\"\n",
        "umur = 20\n",
        "asal = \"Kota Batam\"\n",
        "tanggal_lahir = \"(11, 06, 2005)\"\n",
        "zodiak = \"gemini\"\n",
        "jurusan = \"RPE\"\n",
        "semester = 3\n",
        "matakuliah = \"Pemrograman Dasar\"\n",
        "status_lulus = False\n",
        "\n",
        "# 2. Menampilkan Data\n",
        "print(\"=== Biodata Mahasiswa ===\")\n",
        "print(\"Nama          :\", nama)\n",
        "print(\"Umur          :\", umur)\n",
        "print(\"asal          :\", asal)\n",
        "print(\"tanggal_lahir :\", tanggal_lahir)\n",
        "print(\"zodiak        :\", zodiak)\n",
        "print(\"Jurusan       :\", jurusan)\n",
        "print(\"Semester      :\", semester)\n",
        "print(\"Mata Kuliah   :\", matakuliah)\n",
        "print(\"Status Lulus  :\", status_lulus)\n",
        "\n",
        "# 3. Menampilkan Jenis Tipe Data\n",
        "print(\"\\n=== Tipe Data Masing-masing Variabel ===\")\n",
        "print(\"Tipe data nama          :\", type(nama))\n",
        "print(\"Tipe data umur          :\", type(umur))\n",
        "print(\"Tipe data asal          :\", type(asal))\n",
        "print(\"Tipe data tanggal_lahir :\", type(tanggal_lahir))\n",
        "print(\"Tipe data jurusan       :\", type(jurusan))\n",
        "print(\"Tipe data semester      :\", type(semester))\n",
        "print(\"Tipe data matakuliah    :\", type(matakuliah))\n",
        "print(\"Tipe data status_lulus  :\", type(status_lulus))"
      ],
      "metadata": {
        "colab": {
          "base_uri": "https://localhost:8080/"
        },
        "id": "Oi_R5zdzkGhh",
        "outputId": "a3fb7997-625e-4f65-e37c-e42f5d58694a"
      },
      "execution_count": 11,
      "outputs": [
        {
          "output_type": "stream",
          "name": "stdout",
          "text": [
            "=== Biodata Mahasiswa ===\n",
            "Nama          : Andi\n",
            "Umur          : 20\n",
            "asal          : Kota Batam\n",
            "tanggal_lahir : (11, 06, 2005)\n",
            "zodiak        : gemini\n",
            "Jurusan       : RPE\n",
            "Semester      : 3\n",
            "Mata Kuliah   : Pemrograman Dasar\n",
            "Status Lulus  : False\n",
            "\n",
            "=== Tipe Data Masing-masing Variabel ===\n",
            "Tipe data nama          : <class 'str'>\n",
            "Tipe data umur          : <class 'int'>\n",
            "Tipe data asal          : <class 'str'>\n",
            "Tipe data tanggal_lahir : <class 'str'>\n",
            "Tipe data jurusan       : <class 'str'>\n",
            "Tipe data semester      : <class 'int'>\n",
            "Tipe data matakuliah    : <class 'str'>\n",
            "Tipe data status_lulus  : <class 'bool'>\n"
          ]
        }
      ]
    }
  ]
}